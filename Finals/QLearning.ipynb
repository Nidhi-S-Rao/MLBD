{
 "cells": [
  {
   "cell_type": "code",
   "execution_count": 94,
   "metadata": {},
   "outputs": [],
   "source": [
    "path={0:[4],1:[3,5],2:[3],3:[1,2,4],4:[0,3,5],5:[1,4,5]}"
   ]
  },
  {
   "cell_type": "code",
   "execution_count": 95,
   "metadata": {},
   "outputs": [],
   "source": [
    "Q={0:[0,0,0,0,0,0],\n",
    "  1:[0,0,0,0,0,0],\n",
    "  2:[0,0,0,0,0,0],\n",
    "  3:[0,0,0,0,0,0],\n",
    "  4:[0,0,0,0,0,0],\n",
    "  5:[0,0,0,0,0,0]}"
   ]
  },
  {
   "cell_type": "code",
   "execution_count": 96,
   "metadata": {},
   "outputs": [],
   "source": [
    "R={0:[-1,-1,-1,-1,0,-1],\n",
    "  1:[-1,-1,-1,0,-1,100],\n",
    "  2:[-1,-1,-1,0,-1,-1],\n",
    "  3:[-1,0,0,-1,0,-1],\n",
    "  4:[0,-1,-1,0,-1,100],\n",
    "  5:[-1,0,-1,-1,0,100]}"
   ]
  },
  {
   "cell_type": "code",
   "execution_count": 97,
   "metadata": {},
   "outputs": [
    {
     "name": "stdout",
     "output_type": "stream",
     "text": [
      "Enter the gamma value:0.5\n"
     ]
    }
   ],
   "source": [
    "gamma=float(input(\"Enter the gamma value:\"))"
   ]
  },
  {
   "cell_type": "code",
   "execution_count": 87,
   "metadata": {},
   "outputs": [],
   "source": [
    "def update_Q(source,dest,via):\n",
    "    if via=='NIL':\n",
    "        Q[source][dest]=R[source][dest]+gamma*max(Q[dest][i] for i in path[dest])\n",
    "    else:\n",
    "        via=int(via)\n",
    "        update_Q(source,via,'NIL')\n",
    "        update_Q(via,dest,'NIL')\n",
    "    return Q"
   ]
  },
  {
   "cell_type": "code",
   "execution_count": 88,
   "metadata": {},
   "outputs": [
    {
     "data": {
      "text/plain": [
       "{0: [0, 0, 0, 0, 0, 0],\n",
       " 1: [0, 0, 0, 0, 0, 0],\n",
       " 2: [0, 0, 0, 0, 0, 0],\n",
       " 3: [0, 0, 0, 0, 0, 0],\n",
       " 4: [0, 0, 0, 0, 0, 100.0],\n",
       " 5: [0, 0, 0, 0, 0, 0]}"
      ]
     },
     "execution_count": 88,
     "metadata": {},
     "output_type": "execute_result"
    }
   ],
   "source": [
    "update_Q(4,5,'NIL')"
   ]
  },
  {
   "cell_type": "code",
   "execution_count": 89,
   "metadata": {},
   "outputs": [
    {
     "data": {
      "text/plain": [
       "{0: [0, 0, 0, 0, 0, 0],\n",
       " 1: [0, 0, 0, 0, 0, 0],\n",
       " 2: [0, 0, 0, 0, 0, 0],\n",
       " 3: [0, 0, 0, 0, 50.0, 0],\n",
       " 4: [0, 0, 0, 0, 0, 100.0],\n",
       " 5: [0, 0, 0, 0, 0, 0]}"
      ]
     },
     "execution_count": 89,
     "metadata": {},
     "output_type": "execute_result"
    }
   ],
   "source": [
    "update_Q(3,5,4)"
   ]
  },
  {
   "cell_type": "code",
   "execution_count": 90,
   "metadata": {},
   "outputs": [
    {
     "data": {
      "text/plain": [
       "{0: [0, 0, 0, 0, 0, 0],\n",
       " 1: [0, 0, 0, 0, 0, 0],\n",
       " 2: [0, 0, 0, 25.0, 0, 0],\n",
       " 3: [0, 0, 0, 0, 50.0, -1.0],\n",
       " 4: [0, 0, 0, 0, 0, 100.0],\n",
       " 5: [0, 0, 0, 0, 0, 0]}"
      ]
     },
     "execution_count": 90,
     "metadata": {},
     "output_type": "execute_result"
    }
   ],
   "source": [
    "update_Q(2,5,3)"
   ]
  },
  {
   "cell_type": "code",
   "execution_count": 91,
   "metadata": {},
   "outputs": [
    {
     "data": {
      "text/plain": [
       "{0: [0, 0, 0, 0, 0, 0],\n",
       " 1: [0, 0, 0, 0, 0, 100.0],\n",
       " 2: [0, 0, 0, 25.0, 0, 0],\n",
       " 3: [0, 0, 0, 0, 50.0, -1.0],\n",
       " 4: [0, 0, 0, 0, 0, 100.0],\n",
       " 5: [0, 0, 0, 0, 0, 0]}"
      ]
     },
     "execution_count": 91,
     "metadata": {},
     "output_type": "execute_result"
    }
   ],
   "source": [
    "update_Q(1,5,'NIL')"
   ]
  },
  {
   "cell_type": "code",
   "execution_count": 92,
   "metadata": {},
   "outputs": [
    {
     "data": {
      "text/plain": [
       "{0: [0, 49.0, 0, 0, 0, 0],\n",
       " 1: [0, 0, 0, 0, 0, 100.0],\n",
       " 2: [0, 0, 0, 25.0, 0, 0],\n",
       " 3: [0, 0, 0, 0, 50.0, -1.0],\n",
       " 4: [0, 0, 0, 0, 0, 100.0],\n",
       " 5: [0, 0, 0, 0, 0, 0]}"
      ]
     },
     "execution_count": 92,
     "metadata": {},
     "output_type": "execute_result"
    }
   ],
   "source": [
    "update_Q(0,5,1)"
   ]
  },
  {
   "cell_type": "code",
   "execution_count": 93,
   "metadata": {},
   "outputs": [
    {
     "data": {
      "text/plain": [
       "{0: [0, 49.0, 0, 0, 0, 0],\n",
       " 1: [0, 0, 0, 0, 0, 100.0],\n",
       " 2: [0, 49.0, 0, 25.0, 0, 0],\n",
       " 3: [0, 0, 0, 0, 50.0, -1.0],\n",
       " 4: [0, 0, 0, 0, 0, 100.0],\n",
       " 5: [0, 0, 0, 0, 0, 0]}"
      ]
     },
     "execution_count": 93,
     "metadata": {},
     "output_type": "execute_result"
    }
   ],
   "source": [
    "update_Q(2,5,1)"
   ]
  },
  {
   "cell_type": "code",
   "execution_count": null,
   "metadata": {},
   "outputs": [],
   "source": []
  }
 ],
 "metadata": {
  "kernelspec": {
   "display_name": "Python 3",
   "language": "python",
   "name": "python3"
  },
  "language_info": {
   "codemirror_mode": {
    "name": "ipython",
    "version": 3
   },
   "file_extension": ".py",
   "mimetype": "text/x-python",
   "name": "python",
   "nbconvert_exporter": "python",
   "pygments_lexer": "ipython3",
   "version": "3.8.3"
  }
 },
 "nbformat": 4,
 "nbformat_minor": 4
}
