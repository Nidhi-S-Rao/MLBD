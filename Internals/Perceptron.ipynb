{
  "nbformat": 4,
  "nbformat_minor": 0,
  "metadata": {
    "colab": {
      "provenance": []
    },
    "kernelspec": {
      "name": "python3",
      "display_name": "Python 3"
    },
    "language_info": {
      "name": "python"
    }
  },
  "cells": [
    {
      "cell_type": "code",
      "execution_count": 3,
      "metadata": {
        "id": "w87nuGMHlsoM"
      },
      "outputs": [],
      "source": [
        "def and_gate(x1,x2):\n",
        "  if x1==1 and x2==1:\n",
        "    y=1\n",
        "  else:\n",
        "    y=-1\n",
        "  return y"
      ]
    },
    {
      "cell_type": "code",
      "source": [
        "def or_gate(x1,x2):\n",
        "  if x1==1 or x2==1:\n",
        "    y=1\n",
        "  else:\n",
        "    y=-1\n",
        "  return y"
      ],
      "metadata": {
        "id": "Bwf2xDaZl3mE"
      },
      "execution_count": 4,
      "outputs": []
    },
    {
      "cell_type": "code",
      "source": [
        "def nand_gate(x1,x2):\n",
        "  if x1==1 and x2==1:\n",
        "    y=-1\n",
        "  else:\n",
        "    y=1\n",
        "  return y"
      ],
      "metadata": {
        "id": "aLvH7RDll6LE"
      },
      "execution_count": 5,
      "outputs": []
    },
    {
      "cell_type": "code",
      "source": [
        "def nor_gate(x1,x2):\n",
        "  if x1==1 or x2==1:\n",
        "    y=-1\n",
        "  else:\n",
        "    y=1\n",
        "  return y"
      ],
      "metadata": {
        "id": "qYD4qfHKmErh"
      },
      "execution_count": 6,
      "outputs": []
    },
    {
      "cell_type": "code",
      "source": [
        "w1=w2=b=0\n",
        "alpha=0.3\n",
        "theta=1"
      ],
      "metadata": {
        "id": "TbGVu7FomIjA"
      },
      "execution_count": 7,
      "outputs": []
    },
    {
      "cell_type": "code",
      "source": [
        "combinations=[(1,1),(-1,1),(1,-1),(-1,-1)]"
      ],
      "metadata": {
        "id": "RfwjF27MmM7M"
      },
      "execution_count": 8,
      "outputs": []
    },
    {
      "cell_type": "code",
      "source": [
        "select_gate=input(\"Please select a logic gate:\")"
      ],
      "metadata": {
        "colab": {
          "base_uri": "https://localhost:8080/"
        },
        "id": "ZxN8E_0ZmSNe",
        "outputId": "0d6ed18d-4195-4686-bdcc-9c505789ac94"
      },
      "execution_count": 15,
      "outputs": [
        {
          "name": "stdout",
          "output_type": "stream",
          "text": [
            "Please select a logic gate:NOR\n"
          ]
        }
      ]
    },
    {
      "cell_type": "code",
      "source": [
        "for x1,x2 in combinations:\n",
        "  if(select_gate=='AND'):\n",
        "    y=and_gate(x1,x2)\n",
        "  elif(select_gate=='OR'):\n",
        "    y=or_gate(x1,x2)\n",
        "  elif(select_gate=='NAND'):\n",
        "    y=nand_gate(x1,x2)\n",
        "  else:\n",
        "    y=nor_gate(x1,x2)\n",
        "  net_input=x1*w1+x2*w2+b\n",
        "  if(net_input>=theta):\n",
        "    t=1\n",
        "  else:\n",
        "    t=-1\n",
        "  while t!=y:\n",
        "    w1=w1+alpha*y*x1\n",
        "    w2=w2+alpha*y*x2\n",
        "    b=b+alpha*y\n",
        "    net_input=x1*w1+x2*w2+b\n",
        "    if(net_input>=theta):\n",
        "      t=1\n",
        "    else:\n",
        "      t=-1\n",
        "print(\"Final weights are : w1=\",w1,\" w2=\",w2,\" b=\",b)\n"
      ],
      "metadata": {
        "colab": {
          "base_uri": "https://localhost:8080/"
        },
        "id": "LOL_GybCmYtd",
        "outputId": "8fb73df1-2baa-40de-f989-fee5792b4353"
      },
      "execution_count": 16,
      "outputs": [
        {
          "output_type": "stream",
          "name": "stdout",
          "text": [
            "Final weights are : w1= -0.3  w2= -0.3000000000000001  b= 0.8999999999999999\n"
          ]
        }
      ]
    },
    {
      "cell_type": "code",
      "source": [],
      "metadata": {
        "id": "KeSvqj8_niK9"
      },
      "execution_count": null,
      "outputs": []
    }
  ]
}